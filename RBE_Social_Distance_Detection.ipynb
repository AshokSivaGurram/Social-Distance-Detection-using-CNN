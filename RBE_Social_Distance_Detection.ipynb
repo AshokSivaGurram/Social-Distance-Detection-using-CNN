{
  "cells": [
    {
      "cell_type": "code",
      "execution_count": null,
      "metadata": {
        "id": "Ks4EBDa80Slu"
      },
      "outputs": [],
      "source": [
        "from IPython.display import display, Javascript\n",
        "from google.colab.output import eval_js\n",
        "from base64 import b64decode\n",
        "\n",
        "def take_photo(filename='photo.jpg', quality=0.8):\n",
        "  js = Javascript('''\n",
        "    async function takePhoto(quality) {\n",
        "      const div = document.createElement('div');\n",
        "      const capture = document.createElement('button');\n",
        "      capture.textContent = 'Capture';\n",
        "      div.appendChild(capture);\n",
        "\n",
        "      const video = document.createElement('video');\n",
        "      video.style.display = 'block';\n",
        "      const stream = await navigator.mediaDevices.getUserMedia({video: true});\n",
        "\n",
        "      document.body.appendChild(div);\n",
        "      div.appendChild(video);\n",
        "      video.srcObject = stream;\n",
        "      await video.play();\n",
        "\n",
        "      // Resize the output to fit the video element.\n",
        "      google.colab.output.setIframeHeight(document.documentElement.scrollHeight, true);\n",
        "\n",
        "      // Wait for Capture to be clicked.\n",
        "\n",
        "      const canvas = document.createElement('canvas');\n",
        "      canvas.width = video.videoWidth;\n",
        "      canvas.height = video.videoHeight;\n",
        "      canvas.getContext('2d').drawImage(video, 0, 0);\n",
        "      stream.getVideoTracks()[0].stop();\n",
        "      div.remove();\n",
        "      return canvas.toDataURL('image/jpeg', quality);\n",
        "    }\n",
        "    ''')\n",
        "  display(js)\n",
        "  data = eval_js('takePhoto({})'.format(quality))\n",
        "  binary = b64decode(data.split(',')[1])\n",
        "  with open(filename, 'wb') as f:\n",
        "    f.write(binary)\n",
        "  return filename"
      ]
    },
    {
      "cell_type": "code",
      "execution_count": null,
      "metadata": {
        "colab": {
          "background_save": true
        },
        "id": "ho6gqP0e5ebl"
      },
      "outputs": [],
      "source": [
        "!pip install tensorflow\n",
        "!pip install pydub\n",
        "!apt-get install ffmpeg"
      ]
    },
    {
      "cell_type": "code",
      "execution_count": null,
      "metadata": {
        "colab": {
          "background_save": true
        },
        "id": "Wdq3OKek0Slu"
      },
      "outputs": [],
      "source": [
        "from IPython.display import Image\n",
        "import time\n",
        "import tensorflow as tf\n",
        "import matplotlib.pyplot as plt\n",
        "import numpy as np\n",
        "import cv2\n",
        "from IPython.display import Audio, display\n",
        "\n",
        "\n",
        "audio_file = \"/content/drive/MyDrive/RBE Model/example.mp3\" # replace with your file name\n",
        "audio = AudioSegment.from_file(audio_file)\n",
        "\n",
        "\n",
        "i = 1\n",
        "model = tf.keras.models.load_model(\"/content/drive/MyDrive/RBE Model/model.h5\")\n",
        "try:\n",
        "  while True:\n",
        "    filename = take_photo(\"/content/sample_data/{}.png\".format(i))\n",
        "    print('Saved to {}'.format(filename))\n",
        "    img=cv2.imread(str(filename))\n",
        "    plt.imshow(img)\n",
        "    resized_image=cv2.resize(img,(224,224))\n",
        "    resized_image = np.array(resized_image)/255\n",
        "    resized_image = np.expand_dims(resized_image, axis=0)\n",
        "    list_pred = model.predict(resized_image)\n",
        "    print(list_pred)\n",
        "    list_pred = list_pred.tolist()\n",
        "    if list_pred[0].index(max(list_pred[0])) == 0 :\n",
        "      print(\"With Social Distance\")\n",
        "      display(Image(filename))\n",
        "    else :\n",
        "      print(\"Without Social Distance\")\n",
        "      display(Image(filename))\n",
        "      display(Audio(audio_file, autoplay=True))\n",
        "    i = i+1\n",
        "    time.sleep(5)\n",
        "  \n",
        "  # Show the image which was just taken.\n",
        "  \n",
        "except Exception as err:\n",
        "  # Errors will be thrown if the user does not have a webcam or if they do not\n",
        "  # grant the page permission to access it.\n",
        "  print(str(err))"
      ]
    },
    {
      "cell_type": "code",
      "execution_count": null,
      "metadata": {
        "id": "sAh01ziSImZx"
      },
      "outputs": [],
      "source": []
    },
    {
      "cell_type": "code",
      "execution_count": null,
      "metadata": {
        "id": "hv-bFFDdMTDD"
      },
      "outputs": [],
      "source": []
    }
  ],
  "metadata": {
    "colab": {
      "provenance": []
    },
    "kernelspec": {
      "display_name": "Python 3",
      "name": "python3"
    },
    "language_info": {
      "name": "python"
    }
  },
  "nbformat": 4,
  "nbformat_minor": 0
}